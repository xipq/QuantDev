{
 "cells": [
  {
   "cell_type": "code",
   "id": "initial_id",
   "metadata": {
    "collapsed": true,
    "ExecuteTime": {
     "end_time": "2025-03-06T06:55:23.572619Z",
     "start_time": "2025-03-06T06:55:23.564620Z"
    }
   },
   "source": [
    "import pandas as pd\n",
    "import numpy as np\n",
    "import akshare as ak\n",
    "import matplotlib.pyplot as plt\n",
    "from datetime import datetime, timedelta"
   ],
   "outputs": [],
   "execution_count": 3
  },
  {
   "metadata": {
    "ExecuteTime": {
     "end_time": "2025-03-06T06:55:18.849450Z",
     "start_time": "2025-03-06T06:55:18.837456Z"
    }
   },
   "cell_type": "code",
   "source": [
    "INIT_CAPITAL = 1e6  # 初始资金\n",
    "FEE_RATE = 0.002  # 单边交易费率(含佣金税费)\n",
    "TRADE_RATIO = 1.0  # 仓位比例"
   ],
   "id": "f7f3d0762a610c22",
   "outputs": [],
   "execution_count": 2
  },
  {
   "metadata": {},
   "cell_type": "code",
   "outputs": [],
   "execution_count": null,
   "source": [
    "COMPOUND = True  # 是否复利"
   ],
   "id": "f871c49d86539561"
  },
  {
   "metadata": {
    "ExecuteTime": {
     "end_time": "2025-03-06T06:56:08.115427Z",
     "start_time": "2025-03-06T06:56:08.087432Z"
    }
   },
   "cell_type": "code",
   "source": [
    "# 策略参数扫描空间\n",
    "BUY_TIMES = ['close']  # 买入时机选择\n",
    "SELL_TIMES = ['open', 'open_1h', 'close']  # 卖出时机选择 TODO: 实现小时级别调整\n",
    "\n",
    "# 加载预测数据\n",
    "pred_df = pd.read_csv('score.csv', header=None, names=['date', 'score'])\n",
    "pred_df['date'] = pd.to_datetime(pred_df['date'], format='%Y%m%d')\n",
    "print(pred_df)"
   ],
   "id": "3c178fd0b11a0b55",
   "outputs": [
    {
     "name": "stdout",
     "output_type": "stream",
     "text": [
      "           date    score\n",
      "0    2020-01-02  1266.02\n",
      "1    2020-01-03   984.60\n",
      "2    2020-01-06   567.40\n",
      "3    2020-01-07   771.60\n",
      "4    2020-01-08   364.80\n",
      "...         ...      ...\n",
      "1238 2025-02-17   561.05\n",
      "1239 2025-02-18   217.32\n",
      "1240 2025-02-19   903.43\n",
      "1241 2025-02-20  -263.44\n",
      "1242 2025-02-21  -328.53\n",
      "\n",
      "[1243 rows x 2 columns]\n"
     ]
    }
   ],
   "execution_count": 4
  },
  {
   "metadata": {
    "ExecuteTime": {
     "end_time": "2025-03-06T07:07:40.406878Z",
     "start_time": "2025-03-06T07:07:37.637073Z"
    }
   },
   "cell_type": "code",
   "source": [
    "import pandas as pd\n",
    "import yfinance as yf\n",
    "\n",
    "# 设置ETF代码和时间范围（最多获取最近60天的30分钟数据）\n",
    "etf_code = \"162411.SZ\"  # 南方中证1000ETF示例代码，请确认实际代码\n",
    "start_date = \"2020-01-02\"\n",
    "end_date = \"2025-02-21\"\n",
    "\n",
    "# 下载30分钟级别数据\n",
    "data = yf.download(\n",
    "    tickers=etf_code,\n",
    "    start=start_date,\n",
    "    end=end_date,\n",
    "    interval=\"30m\",\n",
    "    progress=True\n",
    ")\n",
    "\n",
    "# 转换为Pandas DataFrame\n",
    "df = pd.DataFrame(data)\n",
    "\n",
    "# 检查数据\n",
    "if df.empty:\n",
    "    print(\"未获取到数据，请检查代码或时间范围！\")\n",
    "else:\n",
    "    # 处理时区（可选：转换为无时区或本地时间）\n",
    "    df.index = df.index.tz_localize(None)\n",
    "    print(\"数据示例：\")\n",
    "    print(df.head())"
   ],
   "id": "33aa3a7df195c57a",
   "outputs": [
    {
     "name": "stderr",
     "output_type": "stream",
     "text": [
      "[*********************100%***********************]  1 of 1 completed\n",
      "\n",
      "1 Failed download:\n",
      "['162411.SZ']: YFRateLimitError('Too Many Requests. Rate limited. Try after a while.')\n"
     ]
    },
    {
     "name": "stdout",
     "output_type": "stream",
     "text": [
      "未获取到数据，请检查代码或时间范围！\n"
     ]
    }
   ],
   "execution_count": 16
  },
  {
   "metadata": {
    "ExecuteTime": {
     "end_time": "2025-03-06T07:26:29.138910Z",
     "start_time": "2025-03-06T07:26:28.451272Z"
    }
   },
   "cell_type": "code",
   "source": [
    "import akshare as ak\n",
    "import pandas as pd\n",
    "from datetime import datetime, timedelta\n",
    "\n",
    "def get_minute_data(symbol, start_date, end_date, period='30'):\n",
    "    \"\"\"\n",
    "    Get minute-level data for Chinese stocks/ETFs using akshare\n",
    "\n",
    "    Parameters:\n",
    "    - symbol: stock/ETF code (e.g., '162411' for 南方中证1000ETF)\n",
    "    - start_date: start date in 'YYYYMMDD' format\n",
    "    - end_date: end date in 'YYYYMMDD' format\n",
    "    - period: minute interval ('1', '5', '15', '30', '60')\n",
    "\n",
    "    Returns:\n",
    "    - DataFrame with minute-level data\n",
    "    \"\"\"\n",
    "    try:\n",
    "        # Convert dates to required format if needed\n",
    "        if isinstance(start_date, str) and '-' in start_date:\n",
    "            start_date = start_date.replace('-', '')\n",
    "        if isinstance(end_date, str) and '-' in end_date:\n",
    "            end_date = end_date.replace('-', '')\n",
    "\n",
    "        # Get minute-level data\n",
    "        df = ak.stock_zh_a_minute(\n",
    "            symbol=symbol,\n",
    "            period=period,\n",
    "            adjust='qfq'  # 前复权\n",
    "        )\n",
    "\n",
    "        # Convert datetime string to proper datetime object\n",
    "        #                 day  open  high   low  close  volume\n",
    "        # 2020-06-17 14:49:00  3.05  3.05  3.04   3.04  133200\n",
    "\n",
    "        df['datetime'] = pd.to_datetime(df['day'])\n",
    "        df.set_index('datetime', inplace=True)\n",
    "\n",
    "        # # Rename columns to standard names\n",
    "        # df.rename(columns={\n",
    "        #     '开盘': 'Open',\n",
    "        #     '收盘': 'Close',\n",
    "        #     '最高': 'High',\n",
    "        #     '最低': 'Low',\n",
    "        #     '成交量': 'Volume',\n",
    "        #     '成交额': 'Amount'\n",
    "        # }, inplace=True)\n",
    "\n",
    "        return df\n",
    "    except Exception as e:\n",
    "        print(f\"Error fetching minute data: {e}\")\n",
    "        return pd.DataFrame()\n",
    "\n",
    "# Example usage\n",
    "symbol = 'sh512100'  # 南方中证1000ETF的代码\n",
    "start_date = '20200101'  # Format: YYYYMMDD\n",
    "end_date = '20250225'    # Format: YYYYMMDD\n",
    "\n",
    "# Get 30-minute data\n",
    "minute_data = get_minute_data(symbol, start_date, end_date, period='30')\n",
    "print(minute_data.head())"
   ],
   "id": "1dd46658d69067b5",
   "outputs": [
    {
     "name": "stdout",
     "output_type": "stream",
     "text": [
      "                                     day   open   high    low  close  \\\n",
      "datetime                                                               \n",
      "2024-02-28 14:30:00  2024-02-28 14:30:00  2.124  2.128  2.102  2.113   \n",
      "2024-02-28 15:00:00  2024-02-28 15:00:00  2.113  2.120  2.066  2.069   \n",
      "2024-02-29 10:00:00  2024-02-29 10:00:00  2.057  2.119  2.053  2.117   \n",
      "2024-02-29 10:30:00  2024-02-29 10:30:00  2.118  2.136  2.114  2.126   \n",
      "2024-02-29 11:00:00  2024-02-29 11:00:00  2.126  2.142  2.118  2.138   \n",
      "\n",
      "                        volume  \n",
      "datetime                        \n",
      "2024-02-28 14:30:00  110747376  \n",
      "2024-02-28 15:00:00  360936471  \n",
      "2024-02-29 10:00:00  217190294  \n",
      "2024-02-29 10:30:00   84043116  \n",
      "2024-02-29 11:00:00   82124372  \n"
     ]
    }
   ],
   "execution_count": 32
  },
  {
   "metadata": {
    "ExecuteTime": {
     "end_time": "2025-03-06T07:18:11.649627Z",
     "start_time": "2025-03-06T07:18:09.116139Z"
    }
   },
   "cell_type": "code",
   "source": [
    "etf = ak.fund_etf_category_sina(symbol=\"ETF基金\")"
   ],
   "id": "348331b3cc242232",
   "outputs": [],
   "execution_count": 21
  },
  {
   "metadata": {
    "ExecuteTime": {
     "end_time": "2025-03-06T07:21:08.779038Z",
     "start_time": "2025-03-06T07:21:08.062144Z"
    }
   },
   "cell_type": "code",
   "source": [
    "df_500 = ak.fund_etf_hist_sina(symbol=\"sh510500\")\n",
    "df_1000 = ak.fund_etf_hist_sina(symbol=\"sh512100\")  # 中证1000 day"
   ],
   "id": "d8f58c75dc5b9994",
   "outputs": [],
   "execution_count": 26
  },
  {
   "metadata": {
    "ExecuteTime": {
     "end_time": "2025-03-06T07:21:33.349763Z",
     "start_time": "2025-03-06T07:21:33.320905Z"
    }
   },
   "cell_type": "code",
   "source": [
    "df_1000"
   ],
   "id": "79b79bc1bd283cd3",
   "outputs": [
    {
     "ename": "AttributeError",
     "evalue": "'Index' object has no attribute '_format_flat'",
     "output_type": "error",
     "traceback": [
      "\u001B[1;31m---------------------------------------------------------------------------\u001B[0m",
      "\u001B[1;31mAttributeError\u001B[0m                            Traceback (most recent call last)",
      "\u001B[1;32m~\\anaconda3\\lib\\site-packages\\IPython\\core\\formatters.py\u001B[0m in \u001B[0;36m__call__\u001B[1;34m(self, obj)\u001B[0m\n\u001B[0;32m    343\u001B[0m             \u001B[0mmethod\u001B[0m \u001B[1;33m=\u001B[0m \u001B[0mget_real_method\u001B[0m\u001B[1;33m(\u001B[0m\u001B[0mobj\u001B[0m\u001B[1;33m,\u001B[0m \u001B[0mself\u001B[0m\u001B[1;33m.\u001B[0m\u001B[0mprint_method\u001B[0m\u001B[1;33m)\u001B[0m\u001B[1;33m\u001B[0m\u001B[1;33m\u001B[0m\u001B[0m\n\u001B[0;32m    344\u001B[0m             \u001B[1;32mif\u001B[0m \u001B[0mmethod\u001B[0m \u001B[1;32mis\u001B[0m \u001B[1;32mnot\u001B[0m \u001B[1;32mNone\u001B[0m\u001B[1;33m:\u001B[0m\u001B[1;33m\u001B[0m\u001B[1;33m\u001B[0m\u001B[0m\n\u001B[1;32m--> 345\u001B[1;33m                 \u001B[1;32mreturn\u001B[0m \u001B[0mmethod\u001B[0m\u001B[1;33m(\u001B[0m\u001B[1;33m)\u001B[0m\u001B[1;33m\u001B[0m\u001B[1;33m\u001B[0m\u001B[0m\n\u001B[0m\u001B[0;32m    346\u001B[0m             \u001B[1;32mreturn\u001B[0m \u001B[1;32mNone\u001B[0m\u001B[1;33m\u001B[0m\u001B[1;33m\u001B[0m\u001B[0m\n\u001B[0;32m    347\u001B[0m         \u001B[1;32melse\u001B[0m\u001B[1;33m:\u001B[0m\u001B[1;33m\u001B[0m\u001B[1;33m\u001B[0m\u001B[0m\n",
      "\u001B[1;32m~\\anaconda3\\lib\\site-packages\\pandas\\core\\frame.py\u001B[0m in \u001B[0;36m_repr_html_\u001B[1;34m(self)\u001B[0m\n\u001B[0;32m   1051\u001B[0m \u001B[1;33m\u001B[0m\u001B[0m\n\u001B[0;32m   1052\u001B[0m         \u001B[0mSee\u001B[0m \u001B[0mAlso\u001B[0m\u001B[1;33m\u001B[0m\u001B[1;33m\u001B[0m\u001B[0m\n\u001B[1;32m-> 1053\u001B[1;33m         \u001B[1;33m-\u001B[0m\u001B[1;33m-\u001B[0m\u001B[1;33m-\u001B[0m\u001B[1;33m-\u001B[0m\u001B[1;33m-\u001B[0m\u001B[1;33m-\u001B[0m\u001B[1;33m-\u001B[0m\u001B[1;33m-\u001B[0m\u001B[1;33m\u001B[0m\u001B[1;33m\u001B[0m\u001B[0m\n\u001B[0m\u001B[0;32m   1054\u001B[0m         \u001B[0mndarray\u001B[0m\u001B[1;33m.\u001B[0m\u001B[0mshape\u001B[0m \u001B[1;33m:\u001B[0m \u001B[0mTuple\u001B[0m \u001B[0mof\u001B[0m \u001B[0marray\u001B[0m \u001B[0mdimensions\u001B[0m\u001B[1;33m.\u001B[0m\u001B[1;33m\u001B[0m\u001B[1;33m\u001B[0m\u001B[0m\n\u001B[0;32m   1055\u001B[0m \u001B[1;33m\u001B[0m\u001B[0m\n",
      "\u001B[1;32m~\\anaconda3\\lib\\site-packages\\pandas\\io\\formats\\format.py\u001B[0m in \u001B[0;36mto_html\u001B[1;34m(self, buf, encoding, classes, notebook, border, table_id, render_links)\u001B[0m\n\u001B[0;32m   1100\u001B[0m     \u001B[0mna_rep\u001B[0m\u001B[1;33m\u001B[0m\u001B[1;33m\u001B[0m\u001B[0m\n\u001B[0;32m   1101\u001B[0m     \u001B[0mdigits\u001B[0m\u001B[1;33m\u001B[0m\u001B[1;33m\u001B[0m\u001B[0m\n\u001B[1;32m-> 1102\u001B[1;33m     \u001B[0mspace\u001B[0m\u001B[1;33m\u001B[0m\u001B[1;33m\u001B[0m\u001B[0m\n\u001B[0m\u001B[0;32m   1103\u001B[0m     \u001B[0mjustify\u001B[0m\u001B[1;33m\u001B[0m\u001B[1;33m\u001B[0m\u001B[0m\n\u001B[0;32m   1104\u001B[0m     \u001B[0mdecimal\u001B[0m\u001B[1;33m\u001B[0m\u001B[1;33m\u001B[0m\u001B[0m\n",
      "\u001B[1;32m~\\anaconda3\\lib\\site-packages\\pandas\\io\\formats\\html.py\u001B[0m in \u001B[0;36mto_string\u001B[1;34m(self)\u001B[0m\n\u001B[0;32m     86\u001B[0m \u001B[1;33m\u001B[0m\u001B[0m\n\u001B[0;32m     87\u001B[0m     \u001B[1;32mdef\u001B[0m \u001B[0mto_string\u001B[0m\u001B[1;33m(\u001B[0m\u001B[0mself\u001B[0m\u001B[1;33m)\u001B[0m \u001B[1;33m->\u001B[0m \u001B[0mstr\u001B[0m\u001B[1;33m:\u001B[0m\u001B[1;33m\u001B[0m\u001B[1;33m\u001B[0m\u001B[0m\n\u001B[1;32m---> 88\u001B[1;33m         \u001B[0mlines\u001B[0m \u001B[1;33m=\u001B[0m \u001B[0mself\u001B[0m\u001B[1;33m.\u001B[0m\u001B[0mrender\u001B[0m\u001B[1;33m(\u001B[0m\u001B[1;33m)\u001B[0m\u001B[1;33m\u001B[0m\u001B[1;33m\u001B[0m\u001B[0m\n\u001B[0m\u001B[0;32m     89\u001B[0m         \u001B[1;32mif\u001B[0m \u001B[0many\u001B[0m\u001B[1;33m(\u001B[0m\u001B[0misinstance\u001B[0m\u001B[1;33m(\u001B[0m\u001B[0mx\u001B[0m\u001B[1;33m,\u001B[0m \u001B[0mstr\u001B[0m\u001B[1;33m)\u001B[0m \u001B[1;32mfor\u001B[0m \u001B[0mx\u001B[0m \u001B[1;32min\u001B[0m \u001B[0mlines\u001B[0m\u001B[1;33m)\u001B[0m\u001B[1;33m:\u001B[0m\u001B[1;33m\u001B[0m\u001B[1;33m\u001B[0m\u001B[0m\n\u001B[0;32m     90\u001B[0m             \u001B[0mlines\u001B[0m \u001B[1;33m=\u001B[0m \u001B[1;33m[\u001B[0m\u001B[0mstr\u001B[0m\u001B[1;33m(\u001B[0m\u001B[0mx\u001B[0m\u001B[1;33m)\u001B[0m \u001B[1;32mfor\u001B[0m \u001B[0mx\u001B[0m \u001B[1;32min\u001B[0m \u001B[0mlines\u001B[0m\u001B[1;33m]\u001B[0m\u001B[1;33m\u001B[0m\u001B[1;33m\u001B[0m\u001B[0m\n",
      "\u001B[1;32m~\\anaconda3\\lib\\site-packages\\pandas\\io\\formats\\html.py\u001B[0m in \u001B[0;36mrender\u001B[1;34m(self)\u001B[0m\n\u001B[0;32m    642\u001B[0m         \u001B[0mself\u001B[0m\u001B[1;33m.\u001B[0m\u001B[0mwrite\u001B[0m\u001B[1;33m(\u001B[0m\u001B[1;34m\"<div>\"\u001B[0m\u001B[1;33m)\u001B[0m\u001B[1;33m\u001B[0m\u001B[1;33m\u001B[0m\u001B[0m\n\u001B[0;32m    643\u001B[0m         \u001B[0mself\u001B[0m\u001B[1;33m.\u001B[0m\u001B[0mwrite_style\u001B[0m\u001B[1;33m(\u001B[0m\u001B[1;33m)\u001B[0m\u001B[1;33m\u001B[0m\u001B[1;33m\u001B[0m\u001B[0m\n\u001B[1;32m--> 644\u001B[1;33m         \u001B[0msuper\u001B[0m\u001B[1;33m(\u001B[0m\u001B[1;33m)\u001B[0m\u001B[1;33m.\u001B[0m\u001B[0mrender\u001B[0m\u001B[1;33m(\u001B[0m\u001B[1;33m)\u001B[0m\u001B[1;33m\u001B[0m\u001B[1;33m\u001B[0m\u001B[0m\n\u001B[0m\u001B[0;32m    645\u001B[0m         \u001B[0mself\u001B[0m\u001B[1;33m.\u001B[0m\u001B[0mwrite\u001B[0m\u001B[1;33m(\u001B[0m\u001B[1;34m\"</div>\"\u001B[0m\u001B[1;33m)\u001B[0m\u001B[1;33m\u001B[0m\u001B[1;33m\u001B[0m\u001B[0m\n\u001B[0;32m    646\u001B[0m         \u001B[1;32mreturn\u001B[0m \u001B[0mself\u001B[0m\u001B[1;33m.\u001B[0m\u001B[0melements\u001B[0m\u001B[1;33m\u001B[0m\u001B[1;33m\u001B[0m\u001B[0m\n",
      "\u001B[1;32m~\\anaconda3\\lib\\site-packages\\pandas\\io\\formats\\html.py\u001B[0m in \u001B[0;36mrender\u001B[1;34m(self)\u001B[0m\n\u001B[0;32m     92\u001B[0m \u001B[1;33m\u001B[0m\u001B[0m\n\u001B[0;32m     93\u001B[0m     \u001B[1;32mdef\u001B[0m \u001B[0mrender\u001B[0m\u001B[1;33m(\u001B[0m\u001B[0mself\u001B[0m\u001B[1;33m)\u001B[0m \u001B[1;33m->\u001B[0m \u001B[0mlist\u001B[0m\u001B[1;33m[\u001B[0m\u001B[0mstr\u001B[0m\u001B[1;33m]\u001B[0m\u001B[1;33m:\u001B[0m\u001B[1;33m\u001B[0m\u001B[1;33m\u001B[0m\u001B[0m\n\u001B[1;32m---> 94\u001B[1;33m         \u001B[0mself\u001B[0m\u001B[1;33m.\u001B[0m\u001B[0m_write_table\u001B[0m\u001B[1;33m(\u001B[0m\u001B[1;33m)\u001B[0m\u001B[1;33m\u001B[0m\u001B[1;33m\u001B[0m\u001B[0m\n\u001B[0m\u001B[0;32m     95\u001B[0m \u001B[1;33m\u001B[0m\u001B[0m\n\u001B[0;32m     96\u001B[0m         \u001B[1;32mif\u001B[0m \u001B[0mself\u001B[0m\u001B[1;33m.\u001B[0m\u001B[0mshould_show_dimensions\u001B[0m\u001B[1;33m:\u001B[0m\u001B[1;33m\u001B[0m\u001B[1;33m\u001B[0m\u001B[0m\n",
      "\u001B[1;32m~\\anaconda3\\lib\\site-packages\\pandas\\io\\formats\\html.py\u001B[0m in \u001B[0;36m_write_table\u001B[1;34m(self, indent)\u001B[0m\n\u001B[0;32m    265\u001B[0m \u001B[1;33m\u001B[0m\u001B[0m\n\u001B[0;32m    266\u001B[0m         \u001B[1;32mif\u001B[0m \u001B[0mself\u001B[0m\u001B[1;33m.\u001B[0m\u001B[0mfmt\u001B[0m\u001B[1;33m.\u001B[0m\u001B[0mheader\u001B[0m \u001B[1;32mor\u001B[0m \u001B[0mself\u001B[0m\u001B[1;33m.\u001B[0m\u001B[0mshow_row_idx_names\u001B[0m\u001B[1;33m:\u001B[0m\u001B[1;33m\u001B[0m\u001B[1;33m\u001B[0m\u001B[0m\n\u001B[1;32m--> 267\u001B[1;33m             \u001B[0mself\u001B[0m\u001B[1;33m.\u001B[0m\u001B[0m_write_header\u001B[0m\u001B[1;33m(\u001B[0m\u001B[0mindent\u001B[0m \u001B[1;33m+\u001B[0m \u001B[0mself\u001B[0m\u001B[1;33m.\u001B[0m\u001B[0mindent_delta\u001B[0m\u001B[1;33m)\u001B[0m\u001B[1;33m\u001B[0m\u001B[1;33m\u001B[0m\u001B[0m\n\u001B[0m\u001B[0;32m    268\u001B[0m \u001B[1;33m\u001B[0m\u001B[0m\n\u001B[0;32m    269\u001B[0m         \u001B[0mself\u001B[0m\u001B[1;33m.\u001B[0m\u001B[0m_write_body\u001B[0m\u001B[1;33m(\u001B[0m\u001B[0mindent\u001B[0m \u001B[1;33m+\u001B[0m \u001B[0mself\u001B[0m\u001B[1;33m.\u001B[0m\u001B[0mindent_delta\u001B[0m\u001B[1;33m)\u001B[0m\u001B[1;33m\u001B[0m\u001B[1;33m\u001B[0m\u001B[0m\n",
      "\u001B[1;32m~\\anaconda3\\lib\\site-packages\\pandas\\io\\formats\\html.py\u001B[0m in \u001B[0;36m_write_header\u001B[1;34m(self, indent)\u001B[0m\n\u001B[0;32m    401\u001B[0m \u001B[1;33m\u001B[0m\u001B[0m\n\u001B[0;32m    402\u001B[0m         \u001B[1;32mif\u001B[0m \u001B[0mself\u001B[0m\u001B[1;33m.\u001B[0m\u001B[0mfmt\u001B[0m\u001B[1;33m.\u001B[0m\u001B[0mheader\u001B[0m\u001B[1;33m:\u001B[0m\u001B[1;33m\u001B[0m\u001B[1;33m\u001B[0m\u001B[0m\n\u001B[1;32m--> 403\u001B[1;33m             \u001B[0mself\u001B[0m\u001B[1;33m.\u001B[0m\u001B[0m_write_col_header\u001B[0m\u001B[1;33m(\u001B[0m\u001B[0mindent\u001B[0m \u001B[1;33m+\u001B[0m \u001B[0mself\u001B[0m\u001B[1;33m.\u001B[0m\u001B[0mindent_delta\u001B[0m\u001B[1;33m)\u001B[0m\u001B[1;33m\u001B[0m\u001B[1;33m\u001B[0m\u001B[0m\n\u001B[0m\u001B[0;32m    404\u001B[0m \u001B[1;33m\u001B[0m\u001B[0m\n\u001B[0;32m    405\u001B[0m         \u001B[1;32mif\u001B[0m \u001B[0mself\u001B[0m\u001B[1;33m.\u001B[0m\u001B[0mshow_row_idx_names\u001B[0m\u001B[1;33m:\u001B[0m\u001B[1;33m\u001B[0m\u001B[1;33m\u001B[0m\u001B[0m\n",
      "\u001B[1;32m~\\anaconda3\\lib\\site-packages\\pandas\\io\\formats\\html.py\u001B[0m in \u001B[0;36m_write_col_header\u001B[1;34m(self, indent)\u001B[0m\n\u001B[0;32m    381\u001B[0m                 \u001B[1;32melse\u001B[0m\u001B[1;33m:\u001B[0m\u001B[1;33m\u001B[0m\u001B[1;33m\u001B[0m\u001B[0m\n\u001B[0;32m    382\u001B[0m                     \u001B[0mrow\u001B[0m\u001B[1;33m.\u001B[0m\u001B[0mappend\u001B[0m\u001B[1;33m(\u001B[0m\u001B[1;34m\"\"\u001B[0m\u001B[1;33m)\u001B[0m\u001B[1;33m\u001B[0m\u001B[1;33m\u001B[0m\u001B[0m\n\u001B[1;32m--> 383\u001B[1;33m             \u001B[0mrow\u001B[0m\u001B[1;33m.\u001B[0m\u001B[0mextend\u001B[0m\u001B[1;33m(\u001B[0m\u001B[0mself\u001B[0m\u001B[1;33m.\u001B[0m\u001B[0m_get_columns_formatted_values\u001B[0m\u001B[1;33m(\u001B[0m\u001B[1;33m)\u001B[0m\u001B[1;33m)\u001B[0m\u001B[1;33m\u001B[0m\u001B[1;33m\u001B[0m\u001B[0m\n\u001B[0m\u001B[0;32m    384\u001B[0m             \u001B[0malign\u001B[0m \u001B[1;33m=\u001B[0m \u001B[0mself\u001B[0m\u001B[1;33m.\u001B[0m\u001B[0mfmt\u001B[0m\u001B[1;33m.\u001B[0m\u001B[0mjustify\u001B[0m\u001B[1;33m\u001B[0m\u001B[1;33m\u001B[0m\u001B[0m\n\u001B[0;32m    385\u001B[0m \u001B[1;33m\u001B[0m\u001B[0m\n",
      "\u001B[1;32m~\\anaconda3\\lib\\site-packages\\pandas\\io\\formats\\html.py\u001B[0m in \u001B[0;36m_get_columns_formatted_values\u001B[1;34m(self)\u001B[0m\n\u001B[0;32m    609\u001B[0m     \u001B[1;32mdef\u001B[0m \u001B[0m_get_columns_formatted_values\u001B[0m\u001B[1;33m(\u001B[0m\u001B[0mself\u001B[0m\u001B[1;33m)\u001B[0m \u001B[1;33m->\u001B[0m \u001B[0mlist\u001B[0m\u001B[1;33m[\u001B[0m\u001B[0mstr\u001B[0m\u001B[1;33m]\u001B[0m\u001B[1;33m:\u001B[0m\u001B[1;33m\u001B[0m\u001B[1;33m\u001B[0m\u001B[0m\n\u001B[0;32m    610\u001B[0m         \u001B[1;31m# only reached with non-Multi Index\u001B[0m\u001B[1;33m\u001B[0m\u001B[1;33m\u001B[0m\u001B[0m\n\u001B[1;32m--> 611\u001B[1;33m         \u001B[1;32mreturn\u001B[0m \u001B[0mself\u001B[0m\u001B[1;33m.\u001B[0m\u001B[0mcolumns\u001B[0m\u001B[1;33m.\u001B[0m\u001B[0m_format_flat\u001B[0m\u001B[1;33m(\u001B[0m\u001B[0minclude_name\u001B[0m\u001B[1;33m=\u001B[0m\u001B[1;32mFalse\u001B[0m\u001B[1;33m)\u001B[0m\u001B[1;33m\u001B[0m\u001B[1;33m\u001B[0m\u001B[0m\n\u001B[0m\u001B[0;32m    612\u001B[0m \u001B[1;33m\u001B[0m\u001B[0m\n\u001B[0;32m    613\u001B[0m     \u001B[1;32mdef\u001B[0m \u001B[0mwrite_style\u001B[0m\u001B[1;33m(\u001B[0m\u001B[0mself\u001B[0m\u001B[1;33m)\u001B[0m \u001B[1;33m->\u001B[0m \u001B[1;32mNone\u001B[0m\u001B[1;33m:\u001B[0m\u001B[1;33m\u001B[0m\u001B[1;33m\u001B[0m\u001B[0m\n",
      "\u001B[1;31mAttributeError\u001B[0m: 'Index' object has no attribute '_format_flat'"
     ]
    },
    {
     "data": {
      "text/plain": [
       "            date   open   high    low  close      volume\n",
       "0     2016-11-04  1.002  1.007  0.998  1.000   223992300\n",
       "1     2016-11-07  0.999  1.003  0.996  0.998    23446900\n",
       "2     2016-11-08  0.998  1.007  0.998  1.005    51134300\n",
       "3     2016-11-09  1.004  1.006  0.980  0.998    12873300\n",
       "4     2016-11-10  1.003  1.013  1.003  1.012    42887000\n",
       "...          ...    ...    ...    ...    ...         ...\n",
       "2017  2025-02-27  2.608  2.619  2.560  2.600   497368873\n",
       "2018  2025-02-28  2.586  2.589  2.503  2.511  1270109921\n",
       "2019  2025-03-03  2.514  2.552  2.496  2.508   650157255\n",
       "2020  2025-03-04  2.492  2.545  2.490  2.541   559809503\n",
       "2021  2025-03-05  2.540  2.559  2.524  2.558   565835320\n",
       "\n",
       "[2022 rows x 6 columns]"
      ]
     },
     "execution_count": 28,
     "metadata": {},
     "output_type": "execute_result"
    }
   ],
   "execution_count": 28
  }
 ],
 "metadata": {
  "kernelspec": {
   "display_name": "Python 3",
   "language": "python",
   "name": "python3"
  },
  "language_info": {
   "codemirror_mode": {
    "name": "ipython",
    "version": 2
   },
   "file_extension": ".py",
   "mimetype": "text/x-python",
   "name": "python",
   "nbconvert_exporter": "python",
   "pygments_lexer": "ipython2",
   "version": "2.7.6"
  }
 },
 "nbformat": 4,
 "nbformat_minor": 5
}
